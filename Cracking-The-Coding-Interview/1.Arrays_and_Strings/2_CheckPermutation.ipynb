{
  "nbformat": 4,
  "nbformat_minor": 0,
  "metadata": {
    "colab": {
      "name": "2.CheckPermutation.ipynb",
      "provenance": [],
      "collapsed_sections": [],
      "include_colab_link": true
    },
    "kernelspec": {
      "name": "python3",
      "display_name": "Python 3"
    }
  },
  "cells": [
    {
      "cell_type": "markdown",
      "metadata": {
        "id": "view-in-github",
        "colab_type": "text"
      },
      "source": [
        "<a href=\"https://colab.research.google.com/github/AngelineLawrence/Python-Programming/blob/master/Cracking-The-Coding-Interview/1.Arrays_and_Strings/2_CheckPermutation.ipynb\" target=\"_parent\"><img src=\"https://colab.research.google.com/assets/colab-badge.svg\" alt=\"Open In Colab\"/></a>"
      ]
    },
    {
      "cell_type": "code",
      "metadata": {
        "id": "xGpEqF6I1-Gn",
        "colab_type": "code",
        "colab": {}
      },
      "source": [
        "#Check Permutation: Given two strings,write a method to decide if one is a permutation of the other."
      ],
      "execution_count": 0,
      "outputs": []
    },
    {
      "cell_type": "code",
      "metadata": {
        "id": "CX-HFzl82jEh",
        "colab_type": "code",
        "colab": {}
      },
      "source": [
        "#Permutation - Order matters ('123' is not the same as '321')\n",
        "#Combination - Order does not matter ('123/'321' are the same as lond as they contain the same characters)\n",
        "#Anagram - It is a permutation where both permutations must form meaningful words ('EAT' and 'TEA')"
      ],
      "execution_count": 0,
      "outputs": []
    },
    {
      "cell_type": "code",
      "metadata": {
        "id": "ZMsPyR4f9Tbb",
        "colab_type": "code",
        "colab": {}
      },
      "source": [
        "from collections import defaultdict"
      ],
      "execution_count": 0,
      "outputs": []
    },
    {
      "cell_type": "code",
      "metadata": {
        "id": "OI5rKvMx2Ca3",
        "colab_type": "code",
        "colab": {}
      },
      "source": [
        "def checkPermutation(str1,str2):\n",
        "  if len(str1) == len(str2):\n",
        "    s = defaultdict(int)\n",
        "    for i in range(0,len(str1)):\n",
        "      s[str1[i]] += 1\n",
        "      s[str2[i]] -= 1\n",
        "    for i in s:\n",
        "      if s[i] != 0:\n",
        "        return False\n",
        "    return True\n",
        "  return False"
      ],
      "execution_count": 0,
      "outputs": []
    },
    {
      "cell_type": "code",
      "metadata": {
        "id": "qogz1ORc6nch",
        "colab_type": "code",
        "outputId": "6232027b-4d8c-4900-e0b4-f96773c692d2",
        "colab": {
          "base_uri": "https://localhost:8080/",
          "height": 34
        }
      },
      "source": [
        "print(checkPermutation('abc','bca'))"
      ],
      "execution_count": 0,
      "outputs": [
        {
          "output_type": "stream",
          "text": [
            "True\n"
          ],
          "name": "stdout"
        }
      ]
    },
    {
      "cell_type": "code",
      "metadata": {
        "id": "vPeEgn5s6tFa",
        "colab_type": "code",
        "outputId": "ec40ec26-5f0b-43eb-cf2d-8edfcd4afd38",
        "colab": {
          "base_uri": "https://localhost:8080/",
          "height": 34
        }
      },
      "source": [
        "print(checkPermutation('abb','bca'))"
      ],
      "execution_count": 0,
      "outputs": [
        {
          "output_type": "stream",
          "text": [
            "False\n"
          ],
          "name": "stdout"
        }
      ]
    },
    {
      "cell_type": "code",
      "metadata": {
        "id": "RiaD3eGl7moS",
        "colab_type": "code",
        "outputId": "1cf8ee8f-9bf9-462c-9eed-46259de5c86f",
        "colab": {
          "base_uri": "https://localhost:8080/",
          "height": 34
        }
      },
      "source": [
        "print(checkPermutation('abd','bca'))"
      ],
      "execution_count": 0,
      "outputs": [
        {
          "output_type": "stream",
          "text": [
            "False\n"
          ],
          "name": "stdout"
        }
      ]
    },
    {
      "cell_type": "code",
      "metadata": {
        "id": "frTegaMR-9i9",
        "colab_type": "code",
        "colab": {}
      },
      "source": [
        ""
      ],
      "execution_count": 0,
      "outputs": []
    }
  ]
}