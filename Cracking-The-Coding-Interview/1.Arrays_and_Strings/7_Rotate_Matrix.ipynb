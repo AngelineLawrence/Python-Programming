{
  "nbformat": 4,
  "nbformat_minor": 0,
  "metadata": {
    "colab": {
      "name": "7.Rotate_Matrix.ipynb",
      "provenance": [],
      "collapsed_sections": [],
      "include_colab_link": true
    },
    "kernelspec": {
      "name": "python3",
      "display_name": "Python 3"
    }
  },
  "cells": [
    {
      "cell_type": "markdown",
      "metadata": {
        "id": "view-in-github",
        "colab_type": "text"
      },
      "source": [
        "<a href=\"https://colab.research.google.com/github/AngelineLawrence/Python-Programming/blob/master/Cracking-The-Coding-Interview/1.Arrays_and_Strings/7_Rotate_Matrix.ipynb\" target=\"_parent\"><img src=\"https://colab.research.google.com/assets/colab-badge.svg\" alt=\"Open In Colab\"/></a>"
      ]
    },
    {
      "cell_type": "code",
      "metadata": {
        "id": "WoQs4ci6hknb",
        "colab_type": "code",
        "colab": {}
      },
      "source": [
        "#Rotate Matrix: Given an image represented by an NxN matrix, where each pixel in the image is 4 bytes, \n",
        "#write a method to rotate the image by 90 degrees. Can you do this in place?"
      ],
      "execution_count": 0,
      "outputs": []
    },
    {
      "cell_type": "code",
      "metadata": {
        "id": "yjH_G8uYi2FM",
        "colab_type": "code",
        "colab": {}
      },
      "source": [
        "def swap(x,y):\n",
        "    return y, x\n",
        "\n",
        "def rotate_matrix(matrix):\n",
        "    for i in range(0,len(matrix)):\n",
        "        for j in range(0,len(matrix[i])):\n",
        "            if i < j:\n",
        "                matrix[i][j], matrix[j][i] = matrix[j][i], matrix[i][j]\n",
        "                print(\"{} \".format(matrix[i][j]),end=\"\")\n",
        "            else:\n",
        "                print(\"{} \".format(matrix[i][j]),end=\"\")\n",
        "                continue\n",
        "        print()"
      ],
      "execution_count": 0,
      "outputs": []
    },
    {
      "cell_type": "code",
      "metadata": {
        "id": "phMmPqNfk0H-",
        "colab_type": "code",
        "outputId": "6af79c1d-5626-463a-aaaa-0ff82cbadca9",
        "colab": {
          "base_uri": "https://localhost:8080/",
          "height": 68
        }
      },
      "source": [
        "rotate_matrix([[1,2,3],[1,2,3],[1,2,3]])"
      ],
      "execution_count": 0,
      "outputs": [
        {
          "output_type": "stream",
          "text": [
            "1 1 1 \n",
            "2 2 2 \n",
            "3 3 3 \n"
          ],
          "name": "stdout"
        }
      ]
    },
    {
      "cell_type": "code",
      "metadata": {
        "id": "E4r_OMhohrPV",
        "colab_type": "code",
        "colab": {}
      },
      "source": [
        ""
      ],
      "execution_count": 0,
      "outputs": []
    }
  ]
}