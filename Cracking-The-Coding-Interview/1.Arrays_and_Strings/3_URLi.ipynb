{
  "nbformat": 4,
  "nbformat_minor": 0,
  "metadata": {
    "colab": {
      "name": "3.URLi.ipynb",
      "provenance": [],
      "collapsed_sections": [],
      "include_colab_link": true
    },
    "kernelspec": {
      "name": "python3",
      "display_name": "Python 3"
    }
  },
  "cells": [
    {
      "cell_type": "markdown",
      "metadata": {
        "id": "view-in-github",
        "colab_type": "text"
      },
      "source": [
        "<a href=\"https://colab.research.google.com/github/AngelineLawrence/Python-Programming/blob/master/Cracking-The-Coding-Interview/1.Arrays_and_Strings/3_URLi.ipynb\" target=\"_parent\"><img src=\"https://colab.research.google.com/assets/colab-badge.svg\" alt=\"Open In Colab\"/></a>"
      ]
    },
    {
      "cell_type": "code",
      "metadata": {
        "id": "Pm1-uQpvf6NC",
        "colab_type": "code",
        "colab": {}
      },
      "source": [
        "#URLi : Write a method to replace all spaces in a string with '%20  You may assume that the string has sufficient space at the end \n",
        "#to hold the additional characters,and that you are given the \"true\" length of the string. \n",
        "#(Note: If implementing in Java,please use a character array so that you can perform this operation in place.)\n",
        "\n",
        "#EXAMPLE\n",
        "#Input: \"Mr John Smith \", 13 \n",
        "#Output: \"Mr%20John%20Smith\""
      ],
      "execution_count": 0,
      "outputs": []
    },
    {
      "cell_type": "code",
      "metadata": {
        "id": "Am6H8LqDbW4D",
        "colab_type": "code",
        "colab": {}
      },
      "source": [
        "def replace_space(str):\n",
        "  return str.split(\",\")[0].replace(\" \",\"%20\")"
      ],
      "execution_count": 0,
      "outputs": []
    },
    {
      "cell_type": "code",
      "metadata": {
        "id": "-Ic04_Mib-gq",
        "colab_type": "code",
        "outputId": "b8ce0c96-98ed-4b99-ce36-1dca8937b2b6",
        "colab": {
          "base_uri": "https://localhost:8080/",
          "height": 34
        }
      },
      "source": [
        "print(\"Output : {}\".format(replace_space(\"Mr John Smith, 13\" )))"
      ],
      "execution_count": 0,
      "outputs": [
        {
          "output_type": "stream",
          "text": [
            "Output : Mr%20John%20Smith\n"
          ],
          "name": "stdout"
        }
      ]
    },
    {
      "cell_type": "code",
      "metadata": {
        "id": "AAcXTp-hcQsx",
        "colab_type": "code",
        "colab": {}
      },
      "source": [
        ""
      ],
      "execution_count": 0,
      "outputs": []
    }
  ]
}