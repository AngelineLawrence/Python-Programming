{
  "nbformat": 4,
  "nbformat_minor": 0,
  "metadata": {
    "colab": {
      "name": "8.Zero_Matrix.ipynb",
      "provenance": [],
      "collapsed_sections": [],
      "include_colab_link": true
    },
    "kernelspec": {
      "name": "python3",
      "display_name": "Python 3"
    }
  },
  "cells": [
    {
      "cell_type": "markdown",
      "metadata": {
        "id": "view-in-github",
        "colab_type": "text"
      },
      "source": [
        "<a href=\"https://colab.research.google.com/github/AngelineLawrence/Python-Programming/blob/master/Cracking-The-Coding-Interview/1.Arrays_and_Strings/8_Zero_Matrix.ipynb\" target=\"_parent\"><img src=\"https://colab.research.google.com/assets/colab-badge.svg\" alt=\"Open In Colab\"/></a>"
      ]
    },
    {
      "cell_type": "code",
      "metadata": {
        "id": "2KePWLq_MPZ7",
        "colab_type": "code",
        "colab": {}
      },
      "source": [
        "#Zero Matrix: Write an algorithm such that if an element in an MxN matrix is 0, its entire row and column are set to 0."
      ],
      "execution_count": 0,
      "outputs": []
    },
    {
      "cell_type": "code",
      "metadata": {
        "id": "rHsUnGMxMZyZ",
        "colab_type": "code",
        "colab": {}
      },
      "source": [
        "import numpy as np\n",
        "\n",
        "def zero_matrix(matrix):\n",
        "    for i in range(0, len(matrix)):\n",
        "        #skips the fully zero-rows\n",
        "        if sum(matrix[i]) == 0:\n",
        "            print(\"continued :)\")\n",
        "            continue\n",
        "        # finds the rows having zero\n",
        "        elif np.prod(matrix[i]) == 0:\n",
        "            print(\"in here\")\n",
        "            for j in range(0,len(matrix[i])):\n",
        "                matrix[i][j] = 0\n",
        "    return matrix"
      ],
      "execution_count": 0,
      "outputs": []
    },
    {
      "cell_type": "code",
      "metadata": {
        "id": "i5pvE-NzMZwe",
        "colab_type": "code",
        "outputId": "b9e7076d-9447-434d-9f94-5ae5a0977d2e",
        "colab": {
          "base_uri": "https://localhost:8080/",
          "height": 102
        }
      },
      "source": [
        "print(zero_matrix([[0,0,0],[1,0,1],[0,1,1],[0,0,0]]))"
      ],
      "execution_count": 0,
      "outputs": [
        {
          "output_type": "stream",
          "text": [
            "continued :)\n",
            "in here\n",
            "in here\n",
            "continued :)\n",
            "[[0, 0, 0], [0, 0, 0], [0, 0, 0], [0, 0, 0]]\n"
          ],
          "name": "stdout"
        }
      ]
    },
    {
      "cell_type": "code",
      "metadata": {
        "id": "1YVTVEwfMZtx",
        "colab_type": "code",
        "colab": {}
      },
      "source": [
        ""
      ],
      "execution_count": 0,
      "outputs": []
    }
  ]
}