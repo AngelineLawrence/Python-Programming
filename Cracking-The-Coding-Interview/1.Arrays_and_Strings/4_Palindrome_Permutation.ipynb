{
  "nbformat": 4,
  "nbformat_minor": 0,
  "metadata": {
    "colab": {
      "name": "4.Palindrome_Permutation.ipynb",
      "provenance": [],
      "collapsed_sections": [],
      "include_colab_link": true
    },
    "kernelspec": {
      "name": "python3",
      "display_name": "Python 3"
    }
  },
  "cells": [
    {
      "cell_type": "markdown",
      "metadata": {
        "id": "view-in-github",
        "colab_type": "text"
      },
      "source": [
        "<a href=\"https://colab.research.google.com/github/AngelineLawrence/Python-Programming/blob/master/Cracking-The-Coding-Interview/1.Arrays_and_Strings/4_Palindrome_Permutation.ipynb\" target=\"_parent\"><img src=\"https://colab.research.google.com/assets/colab-badge.svg\" alt=\"Open In Colab\"/></a>"
      ]
    },
    {
      "cell_type": "code",
      "metadata": {
        "id": "Mt0OmEkGdNJK",
        "colab_type": "code",
        "colab": {}
      },
      "source": [
        "#Palindrome Permutation: Given a string, write a function to check if it is a permutation of a palindrome. \n",
        "#A palindrome is a word or phrase that is the same forwards and backwards. A permutation is a rearrangement of letters. \n",
        "#The palindrome does not need to be limited to just dictionary words.\n",
        "#EXAMPLE\n",
        "#Input: Tact Coa\n",
        "#Output: True (permutations: \"taco cat\", \"atco eta\", etc.)"
      ],
      "execution_count": 0,
      "outputs": []
    },
    {
      "cell_type": "code",
      "metadata": {
        "id": "0Mkxym6UmIYz",
        "colab_type": "code",
        "colab": {}
      },
      "source": [
        "from collections import defaultdict"
      ],
      "execution_count": 0,
      "outputs": []
    },
    {
      "cell_type": "code",
      "metadata": {
        "id": "JrGW8fnlgUDt",
        "colab_type": "code",
        "colab": {}
      },
      "source": [
        "def palindrome_permutation(str):\n",
        "  str = str.lower().replace(\" \",\"\")\n",
        "  count_dict = defaultdict(int)\n",
        "  for i in str:\n",
        "      count_dict[i] +=1\n",
        "  odd_count = 0\n",
        "  even_count = 0\n",
        "  \n",
        "  for i in str:\n",
        "    if count_dict[i]%2 !=0:\n",
        "      odd_count += 1\n",
        "    even_count += 1\n",
        "  \n",
        "  if odd_count > 1:\n",
        "    return False\n",
        "  else:\n",
        "    return True\n",
        "     "
      ],
      "execution_count": 0,
      "outputs": []
    },
    {
      "cell_type": "code",
      "metadata": {
        "id": "IlDj1UlFoOk-",
        "colab_type": "code",
        "outputId": "6af765f1-f4c9-403d-d995-97579c998f86",
        "colab": {
          "base_uri": "https://localhost:8080/",
          "height": 34
        }
      },
      "source": [
        "print(\"Output: {}\".format(palindrome_permutation(\"oww\"))) #wow"
      ],
      "execution_count": 0,
      "outputs": [
        {
          "output_type": "stream",
          "text": [
            "Output: True\n"
          ],
          "name": "stdout"
        }
      ]
    },
    {
      "cell_type": "code",
      "metadata": {
        "id": "Hl3UYklooaTA",
        "colab_type": "code",
        "outputId": "11631cad-497c-4e77-f84a-9156a7c0d0c2",
        "colab": {
          "base_uri": "https://localhost:8080/",
          "height": 34
        }
      },
      "source": [
        "print(\"Output: {}\".format(palindrome_permutation(\"Tact Coa\")))"
      ],
      "execution_count": 0,
      "outputs": [
        {
          "output_type": "stream",
          "text": [
            "Output: True\n"
          ],
          "name": "stdout"
        }
      ]
    },
    {
      "cell_type": "code",
      "metadata": {
        "id": "Q_s1ICbto2q5",
        "colab_type": "code",
        "outputId": "16d4dab1-33d2-457e-8ccc-28c7619cca5a",
        "colab": {
          "base_uri": "https://localhost:8080/",
          "height": 34
        }
      },
      "source": [
        "print(\"Output: {}\".format(palindrome_permutation(\"wow!\")))"
      ],
      "execution_count": 0,
      "outputs": [
        {
          "output_type": "stream",
          "text": [
            "Output: False\n"
          ],
          "name": "stdout"
        }
      ]
    },
    {
      "cell_type": "code",
      "metadata": {
        "id": "Pgu_wbyDpHti",
        "colab_type": "code",
        "colab": {}
      },
      "source": [
        ""
      ],
      "execution_count": 0,
      "outputs": []
    }
  ]
}