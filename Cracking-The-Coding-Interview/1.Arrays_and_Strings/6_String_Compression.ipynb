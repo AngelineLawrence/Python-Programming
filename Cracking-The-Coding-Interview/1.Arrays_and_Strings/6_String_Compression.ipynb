{
  "nbformat": 4,
  "nbformat_minor": 0,
  "metadata": {
    "colab": {
      "name": "6.String Compression.ipynb",
      "provenance": [],
      "collapsed_sections": [],
      "include_colab_link": true
    },
    "kernelspec": {
      "name": "python3",
      "display_name": "Python 3"
    },
    "accelerator": "GPU"
  },
  "cells": [
    {
      "cell_type": "markdown",
      "metadata": {
        "id": "view-in-github",
        "colab_type": "text"
      },
      "source": [
        "<a href=\"https://colab.research.google.com/github/AngelineLawrence/Python-Programming/blob/master/Cracking-The-Coding-Interview/1.Arrays_and_Strings/6_String_Compression.ipynb\" target=\"_parent\"><img src=\"https://colab.research.google.com/assets/colab-badge.svg\" alt=\"Open In Colab\"/></a>"
      ]
    },
    {
      "cell_type": "code",
      "metadata": {
        "id": "4kBVpkJLQhAT",
        "colab_type": "code",
        "colab": {}
      },
      "source": [
        "#String Compression: Implement a method to perform basic string compression using the counts of repeated characters. \n",
        "#For example, the string aabcccccaaa would become a2blc5a3. If the \"compressed\" string would not become smaller \n",
        "#than the original string, your method should return the original string. You can assume the string has only \n",
        "#uppercase and lowercase letters (a - z)."
      ],
      "execution_count": 0,
      "outputs": []
    },
    {
      "cell_type": "code",
      "metadata": {
        "id": "IuzokeAQQ8JF",
        "colab_type": "code",
        "colab": {}
      },
      "source": [
        "def string_compression(s):\n",
        "    compressed_string = []\n",
        "    character = ''\n",
        "    previous_char = ''\n",
        "    counter = 0\n",
        "    for i in range(0,len(s)):\n",
        "        if previous_char == '':\n",
        "            character = s[i]\n",
        "            counter += 1\n",
        "            previous_char = character\n",
        "            compressed_string.append(character)\n",
        "            continue\n",
        "        else:\n",
        "            character = s[i]\n",
        "            if previous_char == character:\n",
        "                counter += 1\n",
        "                continue\n",
        "            else:\n",
        "                compressed_string.append(counter) \n",
        "                counter = 0\n",
        "                compressed_string.append(character)\n",
        "                previous_char = character\n",
        "                counter += 1\n",
        "\n",
        "    compressed_string.append(counter)\n",
        "    if len(compressed_string) > len(s):\n",
        "        return s\n",
        "    else:\n",
        "        return \"\".join(map(str,compressed_string))"
      ],
      "execution_count": 0,
      "outputs": []
    },
    {
      "cell_type": "code",
      "metadata": {
        "id": "o7OeuarnyIzh",
        "colab_type": "code",
        "outputId": "83da7ef3-1b87-4319-c6aa-60b86344823f",
        "colab": {
          "base_uri": "https://localhost:8080/",
          "height": 34
        }
      },
      "source": [
        "print(string_compression('aabcccccaaa'))"
      ],
      "execution_count": 0,
      "outputs": [
        {
          "output_type": "stream",
          "text": [
            "a2b1c5a3\n"
          ],
          "name": "stdout"
        }
      ]
    },
    {
      "cell_type": "code",
      "metadata": {
        "id": "ZQn9L3PYzJ5d",
        "colab_type": "code",
        "colab": {}
      },
      "source": [
        ""
      ],
      "execution_count": 0,
      "outputs": []
    }
  ]
}