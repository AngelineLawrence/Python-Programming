{
  "nbformat": 4,
  "nbformat_minor": 0,
  "metadata": {
    "colab": {
      "name": "9.String_Rotation.ipynb",
      "provenance": [],
      "collapsed_sections": [],
      "include_colab_link": true
    },
    "kernelspec": {
      "name": "python3",
      "display_name": "Python 3"
    }
  },
  "cells": [
    {
      "cell_type": "markdown",
      "metadata": {
        "id": "view-in-github",
        "colab_type": "text"
      },
      "source": [
        "<a href=\"https://colab.research.google.com/github/AngelineLawrence/Python-Programming/blob/master/Cracking-The-Coding-Interview/1.Arrays_and_Strings/9_String_Rotation.ipynb\" target=\"_parent\"><img src=\"https://colab.research.google.com/assets/colab-badge.svg\" alt=\"Open In Colab\"/></a>"
      ]
    },
    {
      "cell_type": "code",
      "metadata": {
        "id": "sbbJnsf2Pxbo",
        "colab_type": "code",
        "colab": {}
      },
      "source": [
        "#String Rotation: Assume you have a method isSubstring which checks if one word is a substring of another. \n",
        "#Given two strings, sl and s2, write code to check if s2 is a rotation of sl using only one call to isSubstring \n",
        "#(e.g.,\"waterbottle\" is a rotation of\"erbottlewat\")."
      ],
      "execution_count": 0,
      "outputs": []
    },
    {
      "cell_type": "code",
      "metadata": {
        "id": "-iaz5qRwQTDX",
        "colab_type": "code",
        "colab": {}
      },
      "source": [
        "def isSubstring(s1, s2):\n",
        "    if len(s1) == len(s2):\n",
        "        s1 = s1.lower()\n",
        "        s2 = s2.lower()\n",
        "        #without this check, the algorithm runs at constant time\n",
        "        for i in s1:\n",
        "            s2 = s2.replace(i,\"\",1)\n",
        "        if s2 == \"\":\n",
        "            return True\n",
        "    else:\n",
        "        return False\n",
        "\n",
        "def string_rotation(s1,s2):\n",
        "    if isSubstring(s1,s2):\n",
        "        s1 = s1 + s1\n",
        "        if s2 in s1:\n",
        "            return True\n",
        "        else:\n",
        "            return False"
      ],
      "execution_count": 0,
      "outputs": []
    },
    {
      "cell_type": "code",
      "metadata": {
        "id": "-uresQE8Wejg",
        "colab_type": "code",
        "outputId": "58c6a2c8-a398-4801-de06-a5e0926aa3b7",
        "colab": {
          "base_uri": "https://localhost:8080/",
          "height": 34
        }
      },
      "source": [
        "str1 = \"hello world\"\n",
        "str2 = \"orldhello w\"\n",
        "print(isSubstring(str1,str2))"
      ],
      "execution_count": 0,
      "outputs": [
        {
          "output_type": "stream",
          "text": [
            "True\n"
          ],
          "name": "stdout"
        }
      ]
    },
    {
      "cell_type": "code",
      "metadata": {
        "id": "bVIHqv9UQT5N",
        "colab_type": "code",
        "colab": {}
      },
      "source": [
        ""
      ],
      "execution_count": 0,
      "outputs": []
    }
  ]
}