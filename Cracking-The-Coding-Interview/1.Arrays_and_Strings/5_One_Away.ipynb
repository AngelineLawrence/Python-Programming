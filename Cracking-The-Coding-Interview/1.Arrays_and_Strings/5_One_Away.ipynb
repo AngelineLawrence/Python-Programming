{
  "nbformat": 4,
  "nbformat_minor": 0,
  "metadata": {
    "colab": {
      "name": "5.One_Away.ipynb",
      "provenance": [],
      "collapsed_sections": [],
      "include_colab_link": true
    },
    "kernelspec": {
      "name": "python3",
      "display_name": "Python 3"
    }
  },
  "cells": [
    {
      "cell_type": "markdown",
      "metadata": {
        "id": "view-in-github",
        "colab_type": "text"
      },
      "source": [
        "<a href=\"https://colab.research.google.com/github/AngelineLawrence/Python-Programming/blob/master/Cracking-The-Coding-Interview/1.Arrays_and_Strings/5_One_Away.ipynb\" target=\"_parent\"><img src=\"https://colab.research.google.com/assets/colab-badge.svg\" alt=\"Open In Colab\"/></a>"
      ]
    },
    {
      "cell_type": "code",
      "metadata": {
        "id": "LoDcSDBYIrLl",
        "colab_type": "code",
        "colab": {}
      },
      "source": [
        "#One Away: There are three types of edits that can be performed on strings: insert a character, remove a character, or replace a character. \n",
        "#Given two strings, write a function to check if they are one edit (or zero edits) away.\n",
        "#EXAMPLE\n",
        "#pale, ple -> true \n",
        "#pales, pale -> true \n",
        "#pale, bale -> true \n",
        "#pale, bake -> false"
      ],
      "execution_count": 0,
      "outputs": []
    },
    {
      "cell_type": "code",
      "metadata": {
        "id": "ScuiHmO0I3MQ",
        "colab_type": "code",
        "colab": {}
      },
      "source": [
        "def one_away(str1,str2):\n",
        "  difference = abs(len(str1) - len(str2))\n",
        "  if difference >=0 and difference <=1:\n",
        "    if len(set(str1 + str2)) >=1 and len(set(str1 + str2)) <= (max(len(str1), len(str2)) + 1):\n",
        "        return True\n",
        "    return False\n",
        "  return False\n"
      ],
      "execution_count": 0,
      "outputs": []
    },
    {
      "cell_type": "code",
      "metadata": {
        "id": "XlrnMcq8Oob6",
        "colab_type": "code",
        "outputId": "f42437eb-c8a4-42a4-b1e5-f4bd56dbfb2f",
        "colab": {
          "base_uri": "https://localhost:8080/",
          "height": 119
        }
      },
      "source": [
        "print(\"one_away('pale','ple') => {}\".format(one_away('pale','ple')))\n",
        "print(\"one_away('pales','pale') => {}\".format(one_away('pales','pale')))\n",
        "print(\"one_away('pale','bale') => {}\".format(one_away('pale','bale')))\n",
        "print(\"one_away('pale', 'bake') => {}\".format(one_away('pale', 'bake')))\n",
        "print(\"one_away('aaaa','aaa') => {}\".format(one_away('aaaa','aaa')))\n",
        "print(\"one_away('aaaa','aa') => {}\".format(one_away('aaaa','aa')))"
      ],
      "execution_count": 0,
      "outputs": [
        {
          "output_type": "stream",
          "text": [
            "one_away('pale','ple') => True\n",
            "one_away('pales','pale') => True\n",
            "one_away('pale','bale') => True\n",
            "one_away('pale', 'bake') => False\n",
            "one_away('aaaa','aaa') => True\n",
            "one_away('aaaa','aa') => False\n"
          ],
          "name": "stdout"
        }
      ]
    },
    {
      "cell_type": "code",
      "metadata": {
        "id": "D3qdZbTvo7jh",
        "colab_type": "code",
        "colab": {}
      },
      "source": [
        ""
      ],
      "execution_count": 0,
      "outputs": []
    }
  ]
}