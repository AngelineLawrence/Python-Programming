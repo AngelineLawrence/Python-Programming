{
  "nbformat": 4,
  "nbformat_minor": 0,
  "metadata": {
    "colab": {
      "name": "1.IsUnique.ipynb",
      "provenance": [],
      "collapsed_sections": []
    },
    "kernelspec": {
      "name": "python3",
      "display_name": "Python 3"
    }
  },
  "cells": [
    {
      "cell_type": "code",
      "metadata": {
        "id": "17QjO903rpWu",
        "colab_type": "code",
        "colab": {}
      },
      "source": [
        "#Is Unique: Implement an algorithm to determine if a string has all unique characters. What if you cannot use additional data structures?"
      ],
      "execution_count": 0,
      "outputs": []
    },
    {
      "cell_type": "code",
      "metadata": {
        "id": "PPCi4v_byiHl",
        "colab_type": "code",
        "colab": {}
      },
      "source": [
        "def isUnique(s):\n",
        "  str_list = []\n",
        "  for i in s:\n",
        "    if s.count(i) != 1:\n",
        "      return False\n",
        "  return True"
      ],
      "execution_count": 0,
      "outputs": []
    },
    {
      "cell_type": "code",
      "metadata": {
        "id": "A79ONE_a1Vx2",
        "colab_type": "code",
        "outputId": "75102f1f-d666-46e9-999b-cf9560654dbb",
        "colab": {
          "base_uri": "https://localhost:8080/",
          "height": 34
        }
      },
      "source": [
        "print(isUnique('Hello'))"
      ],
      "execution_count": 0,
      "outputs": [
        {
          "output_type": "stream",
          "text": [
            "False\n"
          ],
          "name": "stdout"
        }
      ]
    },
    {
      "cell_type": "code",
      "metadata": {
        "id": "cx5hNLVT1b1I",
        "colab_type": "code",
        "outputId": "b7753ade-e75d-49b4-de98-2b427ce17387",
        "colab": {
          "base_uri": "https://localhost:8080/",
          "height": 34
        }
      },
      "source": [
        "print(isUnique('World'))"
      ],
      "execution_count": 0,
      "outputs": [
        {
          "output_type": "stream",
          "text": [
            "True\n"
          ],
          "name": "stdout"
        }
      ]
    }
  ]
}